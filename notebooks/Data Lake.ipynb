{
 "cells": [
  {
   "cell_type": "code",
   "execution_count": 1,
   "metadata": {},
   "outputs": [
    {
     "name": "stderr",
     "output_type": "stream",
     "text": [
      "/usr/local/lib/python3.7/site-packages/psycopg2/__init__.py:144: UserWarning:\n",
      "\n",
      "The psycopg2 wheel package will be renamed from release 2.8; in order to keep installing from binary please use \"pip install psycopg2-binary\" instead. For details see: <http://initd.org/psycopg/docs/install.html#binary-install-from-pypi>.\n",
      "\n"
     ]
    },
    {
     "name": "stdout",
     "output_type": "stream",
     "text": [
      "Data load complete\n"
     ]
    }
   ],
   "source": [
    "import io\n",
    "import pandas as pd\n",
    "import plotly.plotly as py\n",
    "import plotly.graph_objs as go\n",
    "\n",
    "from plotly.offline import download_plotlyjs, init_notebook_mode, plot, iplot\n",
    "from psycopg2 import connect\n",
    "from sqlalchemy import create_engine\n",
    "\n",
    "# Creates the initial table for items purchased\n",
    "# It is only needed for loading data for the first time\n",
    "csv = \"~/Desktop/items_purchased.csv\"\n",
    "\n",
    "def writeToPostgres(f):\n",
    "    conn = connect(\"postgresql://tlapinskas@localhost/postgres\")\n",
    "    cursor = conn.cursor()\n",
    "    cursor.execute('create table purchases (kiosk_id text, product_id text, card_hash text, date_time text, fc_number text);COMMIT; ')\n",
    "    cursor.copy_from(f, 'purchases', columns=('kiosk_id', 'product_id', 'card_hash', 'date_time', 'fc_number'), sep='\\t')\n",
    "    cursor.close()\n",
    "\n",
    "# Read columns\n",
    "df = pd.read_csv(csv, usecols = ['kiosk_id', 'product_id', 'card_hash', 'date_time', 'fc_number'])\n",
    "\n",
    "# Load data to temp CSV\n",
    "f = io.StringIO()\n",
    "df.to_csv(f, index=False, header=False, sep='\\t')\n",
    "f.seek(0)\n",
    "\n",
    "# Load to Postgres\n",
    "writeToPostgres(f)\n",
    "\n",
    "print(\"Data load complete\")"
   ]
  },
  {
   "cell_type": "code",
   "execution_count": 4,
   "metadata": {},
   "outputs": [
    {
     "name": "stdout",
     "output_type": "stream",
     "text": [
      "Data load complete\n",
      "Total Records: (2231144,)\n"
     ]
    }
   ],
   "source": [
    "# Loads data incrementally if format is the same as items_purchased.csv\n",
    "# Use case: Hourly/Daily/Weekly load of items purchased data that needs to live in a Data Lake\n",
    "csv = \"/Users/tlapinskas/Desktop/items_purchased.csv\"\n",
    "\n",
    "conn = connect(\"postgresql://tlapinskas@localhost/postgres\")\n",
    "cur = conn.cursor()\n",
    "with open(csv, 'r') as f:\n",
    "    # Notice that we don't need the `csv` module.\n",
    "    next(f)  # Skip the header row.\n",
    "    cur.copy_from(f, 'purchases', sep=',')\n",
    "    \n",
    "conn.commit()\n",
    "\n",
    "cur.execute ('''SELECT COUNT(*) FROM purchases;''')\n",
    "count = cur.fetchone()\n",
    "\n",
    "print(\"Data load complete\")\n",
    "print (\"Total Records:\", count)"
   ]
  },
  {
   "cell_type": "code",
   "execution_count": 3,
   "metadata": {},
   "outputs": [
    {
     "data": {
      "text/html": [
       "<script>requirejs.config({paths: { 'plotly': ['https://cdn.plot.ly/plotly-latest.min']},});if(!window.Plotly) {{require(['plotly'],function(plotly) {window.Plotly=plotly;});}}</script>"
      ],
      "text/vnd.plotly.v1+html": [
       "<script>requirejs.config({paths: { 'plotly': ['https://cdn.plot.ly/plotly-latest.min']},});if(!window.Plotly) {{require(['plotly'],function(plotly) {window.Plotly=plotly;});}}</script>"
      ]
     },
     "metadata": {},
     "output_type": "display_data"
    },
    {
     "data": {
      "application/vnd.plotly.v1+json": {
       "data": [
        {
         "type": "bar",
         "uid": "9e44ab22-c5fe-11e8-90d0-6a0000cf8860",
         "x": [
          "4061",
          "4202",
          "4793",
          "2360",
          "4207",
          "4203",
          "4319",
          "2941",
          "3815",
          "2603",
          "3816",
          "4243",
          "4349",
          "4403",
          "4404",
          "4258",
          "3991",
          "2604",
          "4630",
          "2350",
          "4497",
          "3445",
          "4246",
          "4543",
          "4101",
          "5386",
          "4318",
          "3422",
          "4709",
          "4245",
          "5111",
          "4218",
          "3421",
          "4351",
          "2856",
          "4210",
          "5115",
          "5110",
          "5112",
          "2854",
          "4259",
          "4872",
          "4364",
          "4353",
          "4219",
          "5423",
          "4800",
          "4870",
          "2784",
          "4209"
         ],
         "y": [
          136738,
          64722,
          55656,
          52992,
          48886,
          44926,
          43048,
          41260,
          38168,
          34784,
          32402,
          31776,
          31268,
          29334,
          28594,
          28060,
          27976,
          27724,
          27340,
          26592,
          24380,
          24202,
          23162,
          22062,
          21620,
          20114,
          20082,
          19446,
          19302,
          19092,
          18848,
          18836,
          18614,
          18104,
          17916,
          17790,
          17314,
          17164,
          16870,
          16734,
          15642,
          15602,
          15444,
          15432,
          14938,
          14910,
          14132,
          14096,
          14088,
          13996
         ]
        }
       ],
       "layout": {}
      },
      "text/html": [
       "<div id=\"fa95b05f-e14b-43aa-9a1c-884b7efe22c0\" style=\"height: 525px; width: 100%;\" class=\"plotly-graph-div\"></div><script type=\"text/javascript\">require([\"plotly\"], function(Plotly) { window.PLOTLYENV=window.PLOTLYENV || {};window.PLOTLYENV.BASE_URL=\"https://plot.ly\";Plotly.newPlot(\"fa95b05f-e14b-43aa-9a1c-884b7efe22c0\", [{\"x\": [\"4061\", \"4202\", \"4793\", \"2360\", \"4207\", \"4203\", \"4319\", \"2941\", \"3815\", \"2603\", \"3816\", \"4243\", \"4349\", \"4403\", \"4404\", \"4258\", \"3991\", \"2604\", \"4630\", \"2350\", \"4497\", \"3445\", \"4246\", \"4543\", \"4101\", \"5386\", \"4318\", \"3422\", \"4709\", \"4245\", \"5111\", \"4218\", \"3421\", \"4351\", \"2856\", \"4210\", \"5115\", \"5110\", \"5112\", \"2854\", \"4259\", \"4872\", \"4364\", \"4353\", \"4219\", \"5423\", \"4800\", \"4870\", \"2784\", \"4209\"], \"y\": [136738, 64722, 55656, 52992, 48886, 44926, 43048, 41260, 38168, 34784, 32402, 31776, 31268, 29334, 28594, 28060, 27976, 27724, 27340, 26592, 24380, 24202, 23162, 22062, 21620, 20114, 20082, 19446, 19302, 19092, 18848, 18836, 18614, 18104, 17916, 17790, 17314, 17164, 16870, 16734, 15642, 15602, 15444, 15432, 14938, 14910, 14132, 14096, 14088, 13996], \"type\": \"bar\", \"uid\": \"9e8139f2-c5fe-11e8-90d0-6a0000cf8860\"}], {}, {\"showLink\": true, \"linkText\": \"Export to plot.ly\"})});</script>"
      ],
      "text/vnd.plotly.v1+html": [
       "<div id=\"fa95b05f-e14b-43aa-9a1c-884b7efe22c0\" style=\"height: 525px; width: 100%;\" class=\"plotly-graph-div\"></div><script type=\"text/javascript\">require([\"plotly\"], function(Plotly) { window.PLOTLYENV=window.PLOTLYENV || {};window.PLOTLYENV.BASE_URL=\"https://plot.ly\";Plotly.newPlot(\"fa95b05f-e14b-43aa-9a1c-884b7efe22c0\", [{\"x\": [\"4061\", \"4202\", \"4793\", \"2360\", \"4207\", \"4203\", \"4319\", \"2941\", \"3815\", \"2603\", \"3816\", \"4243\", \"4349\", \"4403\", \"4404\", \"4258\", \"3991\", \"2604\", \"4630\", \"2350\", \"4497\", \"3445\", \"4246\", \"4543\", \"4101\", \"5386\", \"4318\", \"3422\", \"4709\", \"4245\", \"5111\", \"4218\", \"3421\", \"4351\", \"2856\", \"4210\", \"5115\", \"5110\", \"5112\", \"2854\", \"4259\", \"4872\", \"4364\", \"4353\", \"4219\", \"5423\", \"4800\", \"4870\", \"2784\", \"4209\"], \"y\": [136738, 64722, 55656, 52992, 48886, 44926, 43048, 41260, 38168, 34784, 32402, 31776, 31268, 29334, 28594, 28060, 27976, 27724, 27340, 26592, 24380, 24202, 23162, 22062, 21620, 20114, 20082, 19446, 19302, 19092, 18848, 18836, 18614, 18104, 17916, 17790, 17314, 17164, 16870, 16734, 15642, 15602, 15444, 15432, 14938, 14910, 14132, 14096, 14088, 13996], \"type\": \"bar\", \"uid\": \"9e8139f2-c5fe-11e8-90d0-6a0000cf8860\"}], {}, {\"showLink\": true, \"linkText\": \"Export to plot.ly\"})});</script>"
      ]
     },
     "metadata": {},
     "output_type": "display_data"
    },
    {
     "data": {
      "application/vnd.plotly.v1+json": {
       "data": [
        {
         "labels": [
          "4061",
          "4202",
          "4793",
          "2360",
          "4207",
          "4203",
          "4319",
          "2941",
          "3815",
          "2603",
          "3816",
          "4243",
          "4349",
          "4403",
          "4404",
          "4258",
          "3991",
          "2604",
          "4630",
          "2350",
          "4497",
          "3445",
          "4246",
          "4543",
          "4101",
          "5386",
          "4318",
          "3422",
          "4709",
          "4245",
          "5111",
          "4218",
          "3421",
          "4351",
          "2856",
          "4210",
          "5115",
          "5110",
          "5112",
          "2854",
          "4259",
          "4872",
          "4364",
          "4353",
          "4219",
          "5423",
          "4800",
          "4870",
          "2784",
          "4209"
         ],
         "type": "pie",
         "uid": "9e89d3f0-c5fe-11e8-90d0-6a0000cf8860",
         "values": [
          136738,
          64722,
          55656,
          52992,
          48886,
          44926,
          43048,
          41260,
          38168,
          34784,
          32402,
          31776,
          31268,
          29334,
          28594,
          28060,
          27976,
          27724,
          27340,
          26592,
          24380,
          24202,
          23162,
          22062,
          21620,
          20114,
          20082,
          19446,
          19302,
          19092,
          18848,
          18836,
          18614,
          18104,
          17916,
          17790,
          17314,
          17164,
          16870,
          16734,
          15642,
          15602,
          15444,
          15432,
          14938,
          14910,
          14132,
          14096,
          14088,
          13996
         ]
        }
       ],
       "layout": {}
      },
      "text/html": [
       "<div id=\"479af097-9ded-4b72-8442-82b53b1ea6bc\" style=\"height: 525px; width: 100%;\" class=\"plotly-graph-div\"></div><script type=\"text/javascript\">require([\"plotly\"], function(Plotly) { window.PLOTLYENV=window.PLOTLYENV || {};window.PLOTLYENV.BASE_URL=\"https://plot.ly\";Plotly.newPlot(\"479af097-9ded-4b72-8442-82b53b1ea6bc\", [{\"labels\": [\"4061\", \"4202\", \"4793\", \"2360\", \"4207\", \"4203\", \"4319\", \"2941\", \"3815\", \"2603\", \"3816\", \"4243\", \"4349\", \"4403\", \"4404\", \"4258\", \"3991\", \"2604\", \"4630\", \"2350\", \"4497\", \"3445\", \"4246\", \"4543\", \"4101\", \"5386\", \"4318\", \"3422\", \"4709\", \"4245\", \"5111\", \"4218\", \"3421\", \"4351\", \"2856\", \"4210\", \"5115\", \"5110\", \"5112\", \"2854\", \"4259\", \"4872\", \"4364\", \"4353\", \"4219\", \"5423\", \"4800\", \"4870\", \"2784\", \"4209\"], \"values\": [136738, 64722, 55656, 52992, 48886, 44926, 43048, 41260, 38168, 34784, 32402, 31776, 31268, 29334, 28594, 28060, 27976, 27724, 27340, 26592, 24380, 24202, 23162, 22062, 21620, 20114, 20082, 19446, 19302, 19092, 18848, 18836, 18614, 18104, 17916, 17790, 17314, 17164, 16870, 16734, 15642, 15602, 15444, 15432, 14938, 14910, 14132, 14096, 14088, 13996], \"type\": \"pie\", \"uid\": \"9e8c5b98-c5fe-11e8-90d0-6a0000cf8860\"}], {}, {\"showLink\": true, \"linkText\": \"Export to plot.ly\"})});</script>"
      ],
      "text/vnd.plotly.v1+html": [
       "<div id=\"479af097-9ded-4b72-8442-82b53b1ea6bc\" style=\"height: 525px; width: 100%;\" class=\"plotly-graph-div\"></div><script type=\"text/javascript\">require([\"plotly\"], function(Plotly) { window.PLOTLYENV=window.PLOTLYENV || {};window.PLOTLYENV.BASE_URL=\"https://plot.ly\";Plotly.newPlot(\"479af097-9ded-4b72-8442-82b53b1ea6bc\", [{\"labels\": [\"4061\", \"4202\", \"4793\", \"2360\", \"4207\", \"4203\", \"4319\", \"2941\", \"3815\", \"2603\", \"3816\", \"4243\", \"4349\", \"4403\", \"4404\", \"4258\", \"3991\", \"2604\", \"4630\", \"2350\", \"4497\", \"3445\", \"4246\", \"4543\", \"4101\", \"5386\", \"4318\", \"3422\", \"4709\", \"4245\", \"5111\", \"4218\", \"3421\", \"4351\", \"2856\", \"4210\", \"5115\", \"5110\", \"5112\", \"2854\", \"4259\", \"4872\", \"4364\", \"4353\", \"4219\", \"5423\", \"4800\", \"4870\", \"2784\", \"4209\"], \"values\": [136738, 64722, 55656, 52992, 48886, 44926, 43048, 41260, 38168, 34784, 32402, 31776, 31268, 29334, 28594, 28060, 27976, 27724, 27340, 26592, 24380, 24202, 23162, 22062, 21620, 20114, 20082, 19446, 19302, 19092, 18848, 18836, 18614, 18104, 17916, 17790, 17314, 17164, 16870, 16734, 15642, 15602, 15444, 15432, 14938, 14910, 14132, 14096, 14088, 13996], \"type\": \"pie\", \"uid\": \"9e8c5b98-c5fe-11e8-90d0-6a0000cf8860\"}], {}, {\"showLink\": true, \"linkText\": \"Export to plot.ly\"})});</script>"
      ]
     },
     "metadata": {},
     "output_type": "display_data"
    }
   ],
   "source": [
    "engine = create_engine(\"postgresql://tlapinskas@localhost/postgres\")\n",
    "\n",
    "# Grab data from Postgres\n",
    "df = pd.read_sql('''\n",
    "                    SELECT product_id, COUNT(*) FROM purchases GROUP BY product_id ORDER BY count DESC LIMIT 50;\n",
    "                    ''', con=engine)\n",
    "df = df.fillna('')\n",
    "\n",
    "# Bar plot\n",
    "init_notebook_mode(connected=True)    \n",
    "\n",
    "iplot([go.Bar(\n",
    "            x=df['product_id'],\n",
    "            y=df['count'],\n",
    ")])\n",
    "\n",
    "# Pie chart\n",
    "trace = go.Pie(labels=df['product_id'], values=df['count'])\n",
    "\n",
    "iplot([trace], filename='basic_pie_chart')"
   ]
  },
  {
   "cell_type": "code",
   "execution_count": null,
   "metadata": {},
   "outputs": [],
   "source": []
  }
 ],
 "metadata": {
  "kernelspec": {
   "display_name": "Python 3",
   "language": "python",
   "name": "python3"
  },
  "language_info": {
   "codemirror_mode": {
    "name": "ipython",
    "version": 3
   },
   "file_extension": ".py",
   "mimetype": "text/x-python",
   "name": "python",
   "nbconvert_exporter": "python",
   "pygments_lexer": "ipython3",
   "version": "3.7.0"
  }
 },
 "nbformat": 4,
 "nbformat_minor": 2
}
